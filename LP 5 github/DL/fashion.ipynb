{
 "cells": [
  {
   "cell_type": "code",
   "execution_count": 26,
   "id": "dd6e8e95-f726-4035-8f92-f405202c4c99",
   "metadata": {},
   "outputs": [],
   "source": [
    "from keras.datasets import fashion_mnist"
   ]
  },
  {
   "cell_type": "code",
   "execution_count": 27,
   "id": "5f2684ee-6187-4eef-af1a-d68b0fbc762a",
   "metadata": {},
   "outputs": [],
   "source": [
    "(x_train,y_train),(x_test,y_test)=fashion_mnist.load_data()"
   ]
  },
  {
   "cell_type": "code",
   "execution_count": 28,
   "id": "9244f3fc-3809-406c-8332-7a2779813a84",
   "metadata": {},
   "outputs": [],
   "source": [
    "x_train=x_train/255.0\n",
    "x_test=x_test/2550\n",
    "import numpy as np \n",
    "x_train = np.expand_dims(x_train,axis=-1)\n",
    "x_test = np.expand_dims(x_test,axis=-1)"
   ]
  },
  {
   "cell_type": "code",
   "execution_count": 29,
   "id": "94273799-376e-4421-889f-20a9b8ac896e",
   "metadata": {},
   "outputs": [
    {
     "name": "stdout",
     "output_type": "stream",
     "text": [
      "Model: \"sequential_2\"\n",
      "_________________________________________________________________\n",
      " Layer (type)                Output Shape              Param #   \n",
      "=================================================================\n",
      " conv2d_6 (Conv2D)           (None, 26, 26, 64)        640       \n",
      "                                                                 \n",
      " max_pooling2d_6 (MaxPooling  (None, 13, 13, 64)       0         \n",
      " 2D)                                                             \n",
      "                                                                 \n",
      " batch_normalization_6 (Batc  (None, 13, 13, 64)       256       \n",
      " hNormalization)                                                 \n",
      "                                                                 \n",
      " conv2d_7 (Conv2D)           (None, 11, 11, 128)       73856     \n",
      "                                                                 \n",
      " max_pooling2d_7 (MaxPooling  (None, 5, 5, 128)        0         \n",
      " 2D)                                                             \n",
      "                                                                 \n",
      " batch_normalization_7 (Batc  (None, 5, 5, 128)        512       \n",
      " hNormalization)                                                 \n",
      "                                                                 \n",
      " conv2d_8 (Conv2D)           (None, 3, 3, 256)         295168    \n",
      "                                                                 \n",
      " max_pooling2d_8 (MaxPooling  (None, 1, 1, 256)        0         \n",
      " 2D)                                                             \n",
      "                                                                 \n",
      " batch_normalization_8 (Batc  (None, 1, 1, 256)        1024      \n",
      " hNormalization)                                                 \n",
      "                                                                 \n",
      " flatten_2 (Flatten)         (None, 256)               0         \n",
      "                                                                 \n",
      " dense_8 (Dense)             (None, 128)               32896     \n",
      "                                                                 \n",
      " dense_9 (Dense)             (None, 64)                8256      \n",
      "                                                                 \n",
      " dense_10 (Dense)            (None, 32)                2080      \n",
      "                                                                 \n",
      " dense_11 (Dense)            (None, 10)                330       \n",
      "                                                                 \n",
      "=================================================================\n",
      "Total params: 415,018\n",
      "Trainable params: 414,122\n",
      "Non-trainable params: 896\n",
      "_________________________________________________________________\n"
     ]
    }
   ],
   "source": [
    "from keras.models import Sequential \n",
    "from keras.layers import Conv2D,MaxPooling2D,Flatten,Dense,BatchNormalization\n",
    "model=Sequential()\n",
    "model.add(Conv2D(filters=64, kernel_size=(3,3),input_shape=(28,28,1),activation='relu'))\n",
    "model.add(MaxPooling2D(pool_size=(2,2)))\n",
    "model.add(BatchNormalization())\n",
    "\n",
    "model.add(Conv2D(filters=128, kernel_size=(3,3),activation='relu'))\n",
    "model.add(MaxPooling2D(pool_size=(2,2)))\n",
    "model.add(BatchNormalization())\n",
    "\n",
    "model.add(Conv2D(filters=256, kernel_size=(3,3),activation='relu'))\n",
    "model.add(MaxPooling2D(pool_size=(2,2)))\n",
    "model.add(BatchNormalization())\n",
    "\n",
    "model.add(Flatten())\n",
    "model.add(Dense(128,activation='relu'))\n",
    "model.add(Dense(64,activation='relu'))\n",
    "model.add(Dense(32,activation='relu'))\n",
    "model.add(Dense(10,activation='softmax'))\n",
    "model.compile(optimizer='adam',metrics=['accuracy'],loss='sparse_categorical_crossentropy')\n",
    "model.summary()\n",
    "          "
   ]
  },
  {
   "cell_type": "code",
   "execution_count": 30,
   "id": "e4301f9e-d789-4123-8123-f3f6e80ac049",
   "metadata": {},
   "outputs": [
    {
     "name": "stdout",
     "output_type": "stream",
     "text": [
      "Epoch 1/15\n",
      "1500/1500 [==============================] - 68s 45ms/step - loss: 0.4659 - accuracy: 0.8296 - val_loss: 0.3790 - val_accuracy: 0.8615\n",
      "Epoch 2/15\n",
      "1500/1500 [==============================] - 64s 43ms/step - loss: 0.3285 - accuracy: 0.8796 - val_loss: 0.3321 - val_accuracy: 0.8758\n",
      "Epoch 3/15\n",
      "1500/1500 [==============================] - 64s 43ms/step - loss: 0.2847 - accuracy: 0.8944 - val_loss: 0.3291 - val_accuracy: 0.8790\n",
      "Epoch 4/15\n",
      "1500/1500 [==============================] - 69s 46ms/step - loss: 0.2479 - accuracy: 0.9079 - val_loss: 0.3168 - val_accuracy: 0.8825\n",
      "Epoch 5/15\n",
      "1500/1500 [==============================] - 81s 54ms/step - loss: 0.2199 - accuracy: 0.9191 - val_loss: 0.2963 - val_accuracy: 0.8931\n",
      "Epoch 6/15\n",
      "1500/1500 [==============================] - 73s 49ms/step - loss: 0.1979 - accuracy: 0.9265 - val_loss: 0.3035 - val_accuracy: 0.8935\n",
      "Epoch 7/15\n",
      "1500/1500 [==============================] - 65s 43ms/step - loss: 0.1771 - accuracy: 0.9351 - val_loss: 0.3249 - val_accuracy: 0.8967\n",
      "Epoch 8/15\n",
      "1500/1500 [==============================] - 67s 44ms/step - loss: 0.1625 - accuracy: 0.9394 - val_loss: 0.3105 - val_accuracy: 0.8956\n",
      "Epoch 9/15\n",
      "1500/1500 [==============================] - 66s 44ms/step - loss: 0.1444 - accuracy: 0.9474 - val_loss: 0.3194 - val_accuracy: 0.8979\n",
      "Epoch 10/15\n",
      "1500/1500 [==============================] - 64s 43ms/step - loss: 0.1294 - accuracy: 0.9519 - val_loss: 0.3243 - val_accuracy: 0.9018\n",
      "Epoch 11/15\n",
      "1500/1500 [==============================] - 67s 44ms/step - loss: 0.1178 - accuracy: 0.9565 - val_loss: 0.3140 - val_accuracy: 0.9071\n",
      "Epoch 12/15\n",
      "1500/1500 [==============================] - 72s 48ms/step - loss: 0.1064 - accuracy: 0.9603 - val_loss: 0.3609 - val_accuracy: 0.8926\n",
      "Epoch 13/15\n",
      "1500/1500 [==============================] - 77s 52ms/step - loss: 0.0984 - accuracy: 0.9636 - val_loss: 0.3454 - val_accuracy: 0.9028\n",
      "Epoch 14/15\n",
      "1500/1500 [==============================] - 63s 42ms/step - loss: 0.0874 - accuracy: 0.9677 - val_loss: 0.4793 - val_accuracy: 0.8811\n",
      "Epoch 15/15\n",
      "1500/1500 [==============================] - 62s 41ms/step - loss: 0.0827 - accuracy: 0.9700 - val_loss: 0.3453 - val_accuracy: 0.9082\n"
     ]
    }
   ],
   "source": [
    "history = model.fit(x_train,y_train,epochs=15,validation_split=0.2,batch_size=32)"
   ]
  },
  {
   "cell_type": "code",
   "execution_count": 31,
   "id": "dc216514-c2f7-4a39-ac36-b82b9af59876",
   "metadata": {},
   "outputs": [
    {
     "name": "stdout",
     "output_type": "stream",
     "text": [
      "313/313 [==============================] - 4s 12ms/step - loss: 1.4596 - accuracy: 0.5714\n",
      "1.4596308469772339\n",
      "0.571399986743927\n"
     ]
    }
   ],
   "source": [
    "loss,accuracy=model.evaluate(x_test,y_test)\n",
    "print(loss)\n",
    "print(accuracy)"
   ]
  },
  {
   "cell_type": "code",
   "execution_count": 32,
   "id": "efdd84da-7016-486a-b8ee-45a27cf44327",
   "metadata": {},
   "outputs": [
    {
     "name": "stdout",
     "output_type": "stream",
     "text": [
      "313/313 [==============================] - 4s 12ms/step\n"
     ]
    },
    {
     "data": {
      "image/png": "[encoded data removed]",
      "text/plain": [
       "<Figure size 640x480 with 1 Axes>"
      ]
     },
     "metadata": {},
     "output_type": "display_data"
    },
    {
     "data": {
      "image/png": "[encoded data removed]",
      "text/plain": [
       "<Figure size 640x480 with 1 Axes>"
      ]
     },
     "metadata": {},
     "output_type": "display_data"
    }
   ],
   "source": [
    "y_predict=model.predict(x_test)\n",
    "import numpy as np \n",
    "import matplotlib.pyplot as plt \n",
    "labels=['Tshirt','Trouser','PullOver','Dress','Coat','Sandal','Shirt','Sneaker','Bag','Ankle Boot']\n",
    "for i in range(2):\n",
    "    label=labels[np.argmax(y_predict[i])]\n",
    "    plt.imshow(x_test[i])\n",
    "    plt.title(label)\n",
    "    plt.show()"
   ]
  },
  {
   "cell_type": "code",
   "execution_count": null,
   "id": "90c9a558-163e-473c-a3b4-463b8ca4ad2c",
   "metadata": {},
   "outputs": [],
   "source": []
  },
  {
   "cell_type": "code",
   "execution_count": null,
   "id": "136e40a6-26af-4553-918a-5ecb94c5c374",
   "metadata": {},
   "outputs": [],
   "source": []
  }
 ],
 "metadata": {
  "kernelspec": {
   "display_name": "Python 3 (ipykernel)",
   "language": "python",
   "name": "python3"
  },
  "language_info": {
   "codemirror_mode": {
    "name": "ipython",
    "version": 3
   },
   "file_extension": ".py",
   "mimetype": "text/x-python",
   "name": "python",
   "nbconvert_exporter": "python",
   "pygments_lexer": "ipython3",
   "version": "3.10.2"
  }
 },
 "nbformat": 4,
 "nbformat_minor": 5
}
